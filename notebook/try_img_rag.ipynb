{
 "cells": [
  {
   "cell_type": "markdown",
   "id": "cc1dd00e-156b-4b9d-af8c-ff6f43cefb81",
   "metadata": {},
   "source": [
    "## try img rag"
   ]
  },
  {
   "cell_type": "markdown",
   "id": "02050e4a-7798-4d11-a83c-6c96062dcf00",
   "metadata": {},
   "source": [
    "* imgファイルをもとにしたRAG関連の検証"
   ]
  },
  {
   "cell_type": "code",
   "execution_count": 1,
   "id": "6b2b91be-f2fa-4cec-88f3-fb493e11d865",
   "metadata": {},
   "outputs": [
    {
     "name": "stdout",
     "output_type": "stream",
     "text": [
      "Requirement already satisfied: python-dotenv in c:\\users\\mikan\\documents\\python\\signate_fdua_rag\\lib\\site-packages (1.0.1)\n"
     ]
    },
    {
     "name": "stderr",
     "output_type": "stream",
     "text": [
      "\n",
      "[notice] A new release of pip is available: 24.0 -> 25.0\n",
      "[notice] To update, run: python.exe -m pip install --upgrade pip\n"
     ]
    },
    {
     "name": "stdout",
     "output_type": "stream",
     "text": [
      "Requirement already satisfied: pandas in c:\\users\\mikan\\documents\\python\\signate_fdua_rag\\lib\\site-packages (2.2.3)\n",
      "Requirement already satisfied: numpy>=1.26.0 in c:\\users\\mikan\\documents\\python\\signate_fdua_rag\\lib\\site-packages (from pandas) (2.2.2)\n",
      "Requirement already satisfied: python-dateutil>=2.8.2 in c:\\users\\mikan\\documents\\python\\signate_fdua_rag\\lib\\site-packages (from pandas) (2.9.0.post0)\n",
      "Requirement already satisfied: pytz>=2020.1 in c:\\users\\mikan\\documents\\python\\signate_fdua_rag\\lib\\site-packages (from pandas) (2025.1)\n",
      "Requirement already satisfied: tzdata>=2022.7 in c:\\users\\mikan\\documents\\python\\signate_fdua_rag\\lib\\site-packages (from pandas) (2025.1)\n",
      "Requirement already satisfied: six>=1.5 in c:\\users\\mikan\\documents\\python\\signate_fdua_rag\\lib\\site-packages (from python-dateutil>=2.8.2->pandas) (1.17.0)\n"
     ]
    },
    {
     "name": "stderr",
     "output_type": "stream",
     "text": [
      "\n",
      "[notice] A new release of pip is available: 24.0 -> 25.0\n",
      "[notice] To update, run: python.exe -m pip install --upgrade pip\n"
     ]
    },
    {
     "name": "stdout",
     "output_type": "stream",
     "text": [
      "Requirement already satisfied: langchain-core==0.3.0 in c:\\users\\mikan\\documents\\python\\signate_fdua_rag\\lib\\site-packages (0.3.0)\n",
      "Requirement already satisfied: PyYAML>=5.3 in c:\\users\\mikan\\documents\\python\\signate_fdua_rag\\lib\\site-packages (from langchain-core==0.3.0) (6.0.2)\n",
      "Requirement already satisfied: jsonpatch<2.0,>=1.33 in c:\\users\\mikan\\documents\\python\\signate_fdua_rag\\lib\\site-packages (from langchain-core==0.3.0) (1.33)\n",
      "Requirement already satisfied: langsmith<0.2.0,>=0.1.117 in c:\\users\\mikan\\documents\\python\\signate_fdua_rag\\lib\\site-packages (from langchain-core==0.3.0) (0.1.147)\n",
      "Requirement already satisfied: packaging<25,>=23.2 in c:\\users\\mikan\\documents\\python\\signate_fdua_rag\\lib\\site-packages (from langchain-core==0.3.0) (24.2)\n",
      "Requirement already satisfied: pydantic<3.0.0,>=2.7.4 in c:\\users\\mikan\\documents\\python\\signate_fdua_rag\\lib\\site-packages (from langchain-core==0.3.0) (2.10.6)\n",
      "Requirement already satisfied: tenacity!=8.4.0,<9.0.0,>=8.1.0 in c:\\users\\mikan\\documents\\python\\signate_fdua_rag\\lib\\site-packages (from langchain-core==0.3.0) (8.5.0)\n",
      "Requirement already satisfied: typing-extensions>=4.7 in c:\\users\\mikan\\documents\\python\\signate_fdua_rag\\lib\\site-packages (from langchain-core==0.3.0) (4.12.2)\n",
      "Requirement already satisfied: jsonpointer>=1.9 in c:\\users\\mikan\\documents\\python\\signate_fdua_rag\\lib\\site-packages (from jsonpatch<2.0,>=1.33->langchain-core==0.3.0) (3.0.0)\n",
      "Requirement already satisfied: httpx<1,>=0.23.0 in c:\\users\\mikan\\documents\\python\\signate_fdua_rag\\lib\\site-packages (from langsmith<0.2.0,>=0.1.117->langchain-core==0.3.0) (0.28.1)\n",
      "Requirement already satisfied: orjson<4.0.0,>=3.9.14 in c:\\users\\mikan\\documents\\python\\signate_fdua_rag\\lib\\site-packages (from langsmith<0.2.0,>=0.1.117->langchain-core==0.3.0) (3.10.15)\n",
      "Requirement already satisfied: requests<3,>=2 in c:\\users\\mikan\\documents\\python\\signate_fdua_rag\\lib\\site-packages (from langsmith<0.2.0,>=0.1.117->langchain-core==0.3.0) (2.32.3)\n",
      "Requirement already satisfied: requests-toolbelt<2.0.0,>=1.0.0 in c:\\users\\mikan\\documents\\python\\signate_fdua_rag\\lib\\site-packages (from langsmith<0.2.0,>=0.1.117->langchain-core==0.3.0) (1.0.0)\n",
      "Requirement already satisfied: annotated-types>=0.6.0 in c:\\users\\mikan\\documents\\python\\signate_fdua_rag\\lib\\site-packages (from pydantic<3.0.0,>=2.7.4->langchain-core==0.3.0) (0.7.0)\n",
      "Requirement already satisfied: pydantic-core==2.27.2 in c:\\users\\mikan\\documents\\python\\signate_fdua_rag\\lib\\site-packages (from pydantic<3.0.0,>=2.7.4->langchain-core==0.3.0) (2.27.2)\n",
      "Requirement already satisfied: anyio in c:\\users\\mikan\\documents\\python\\signate_fdua_rag\\lib\\site-packages (from httpx<1,>=0.23.0->langsmith<0.2.0,>=0.1.117->langchain-core==0.3.0) (4.8.0)\n",
      "Requirement already satisfied: certifi in c:\\users\\mikan\\documents\\python\\signate_fdua_rag\\lib\\site-packages (from httpx<1,>=0.23.0->langsmith<0.2.0,>=0.1.117->langchain-core==0.3.0) (2025.1.31)\n",
      "Requirement already satisfied: httpcore==1.* in c:\\users\\mikan\\documents\\python\\signate_fdua_rag\\lib\\site-packages (from httpx<1,>=0.23.0->langsmith<0.2.0,>=0.1.117->langchain-core==0.3.0) (1.0.7)\n",
      "Requirement already satisfied: idna in c:\\users\\mikan\\documents\\python\\signate_fdua_rag\\lib\\site-packages (from httpx<1,>=0.23.0->langsmith<0.2.0,>=0.1.117->langchain-core==0.3.0) (3.10)\n",
      "Requirement already satisfied: h11<0.15,>=0.13 in c:\\users\\mikan\\documents\\python\\signate_fdua_rag\\lib\\site-packages (from httpcore==1.*->httpx<1,>=0.23.0->langsmith<0.2.0,>=0.1.117->langchain-core==0.3.0) (0.14.0)\n",
      "Requirement already satisfied: charset-normalizer<4,>=2 in c:\\users\\mikan\\documents\\python\\signate_fdua_rag\\lib\\site-packages (from requests<3,>=2->langsmith<0.2.0,>=0.1.117->langchain-core==0.3.0) (3.4.1)\n",
      "Requirement already satisfied: urllib3<3,>=1.21.1 in c:\\users\\mikan\\documents\\python\\signate_fdua_rag\\lib\\site-packages (from requests<3,>=2->langsmith<0.2.0,>=0.1.117->langchain-core==0.3.0) (2.3.0)\n",
      "Requirement already satisfied: sniffio>=1.1 in c:\\users\\mikan\\documents\\python\\signate_fdua_rag\\lib\\site-packages (from anyio->httpx<1,>=0.23.0->langsmith<0.2.0,>=0.1.117->langchain-core==0.3.0) (1.3.1)\n"
     ]
    },
    {
     "name": "stderr",
     "output_type": "stream",
     "text": [
      "\n",
      "[notice] A new release of pip is available: 24.0 -> 25.0\n",
      "[notice] To update, run: python.exe -m pip install --upgrade pip\n"
     ]
    },
    {
     "name": "stdout",
     "output_type": "stream",
     "text": [
      "Requirement already satisfied: langchain-openai==0.2.0 in c:\\users\\mikan\\documents\\python\\signate_fdua_rag\\lib\\site-packages (0.2.0)\n",
      "Requirement already satisfied: langchain-core<0.4,>=0.3 in c:\\users\\mikan\\documents\\python\\signate_fdua_rag\\lib\\site-packages (from langchain-openai==0.2.0) (0.3.0)\n",
      "Requirement already satisfied: openai<2.0.0,>=1.40.0 in c:\\users\\mikan\\documents\\python\\signate_fdua_rag\\lib\\site-packages (from langchain-openai==0.2.0) (1.61.1)\n",
      "Requirement already satisfied: tiktoken<1,>=0.7 in c:\\users\\mikan\\documents\\python\\signate_fdua_rag\\lib\\site-packages (from langchain-openai==0.2.0) (0.8.0)\n",
      "Requirement already satisfied: PyYAML>=5.3 in c:\\users\\mikan\\documents\\python\\signate_fdua_rag\\lib\\site-packages (from langchain-core<0.4,>=0.3->langchain-openai==0.2.0) (6.0.2)\n",
      "Requirement already satisfied: jsonpatch<2.0,>=1.33 in c:\\users\\mikan\\documents\\python\\signate_fdua_rag\\lib\\site-packages (from langchain-core<0.4,>=0.3->langchain-openai==0.2.0) (1.33)\n",
      "Requirement already satisfied: langsmith<0.2.0,>=0.1.117 in c:\\users\\mikan\\documents\\python\\signate_fdua_rag\\lib\\site-packages (from langchain-core<0.4,>=0.3->langchain-openai==0.2.0) (0.1.147)\n",
      "Requirement already satisfied: packaging<25,>=23.2 in c:\\users\\mikan\\documents\\python\\signate_fdua_rag\\lib\\site-packages (from langchain-core<0.4,>=0.3->langchain-openai==0.2.0) (24.2)\n",
      "Requirement already satisfied: pydantic<3.0.0,>=2.7.4 in c:\\users\\mikan\\documents\\python\\signate_fdua_rag\\lib\\site-packages (from langchain-core<0.4,>=0.3->langchain-openai==0.2.0) (2.10.6)\n",
      "Requirement already satisfied: tenacity!=8.4.0,<9.0.0,>=8.1.0 in c:\\users\\mikan\\documents\\python\\signate_fdua_rag\\lib\\site-packages (from langchain-core<0.4,>=0.3->langchain-openai==0.2.0) (8.5.0)\n",
      "Requirement already satisfied: typing-extensions>=4.7 in c:\\users\\mikan\\documents\\python\\signate_fdua_rag\\lib\\site-packages (from langchain-core<0.4,>=0.3->langchain-openai==0.2.0) (4.12.2)\n",
      "Requirement already satisfied: anyio<5,>=3.5.0 in c:\\users\\mikan\\documents\\python\\signate_fdua_rag\\lib\\site-packages (from openai<2.0.0,>=1.40.0->langchain-openai==0.2.0) (4.8.0)\n",
      "Requirement already satisfied: distro<2,>=1.7.0 in c:\\users\\mikan\\documents\\python\\signate_fdua_rag\\lib\\site-packages (from openai<2.0.0,>=1.40.0->langchain-openai==0.2.0) (1.9.0)\n",
      "Requirement already satisfied: httpx<1,>=0.23.0 in c:\\users\\mikan\\documents\\python\\signate_fdua_rag\\lib\\site-packages (from openai<2.0.0,>=1.40.0->langchain-openai==0.2.0) (0.28.1)\n",
      "Requirement already satisfied: jiter<1,>=0.4.0 in c:\\users\\mikan\\documents\\python\\signate_fdua_rag\\lib\\site-packages (from openai<2.0.0,>=1.40.0->langchain-openai==0.2.0) (0.8.2)\n",
      "Requirement already satisfied: sniffio in c:\\users\\mikan\\documents\\python\\signate_fdua_rag\\lib\\site-packages (from openai<2.0.0,>=1.40.0->langchain-openai==0.2.0) (1.3.1)\n",
      "Requirement already satisfied: tqdm>4 in c:\\users\\mikan\\documents\\python\\signate_fdua_rag\\lib\\site-packages (from openai<2.0.0,>=1.40.0->langchain-openai==0.2.0) (4.67.1)\n",
      "Requirement already satisfied: regex>=2022.1.18 in c:\\users\\mikan\\documents\\python\\signate_fdua_rag\\lib\\site-packages (from tiktoken<1,>=0.7->langchain-openai==0.2.0) (2024.11.6)\n",
      "Requirement already satisfied: requests>=2.26.0 in c:\\users\\mikan\\documents\\python\\signate_fdua_rag\\lib\\site-packages (from tiktoken<1,>=0.7->langchain-openai==0.2.0) (2.32.3)\n",
      "Requirement already satisfied: idna>=2.8 in c:\\users\\mikan\\documents\\python\\signate_fdua_rag\\lib\\site-packages (from anyio<5,>=3.5.0->openai<2.0.0,>=1.40.0->langchain-openai==0.2.0) (3.10)\n",
      "Requirement already satisfied: certifi in c:\\users\\mikan\\documents\\python\\signate_fdua_rag\\lib\\site-packages (from httpx<1,>=0.23.0->openai<2.0.0,>=1.40.0->langchain-openai==0.2.0) (2025.1.31)\n",
      "Requirement already satisfied: httpcore==1.* in c:\\users\\mikan\\documents\\python\\signate_fdua_rag\\lib\\site-packages (from httpx<1,>=0.23.0->openai<2.0.0,>=1.40.0->langchain-openai==0.2.0) (1.0.7)\n",
      "Requirement already satisfied: h11<0.15,>=0.13 in c:\\users\\mikan\\documents\\python\\signate_fdua_rag\\lib\\site-packages (from httpcore==1.*->httpx<1,>=0.23.0->openai<2.0.0,>=1.40.0->langchain-openai==0.2.0) (0.14.0)\n",
      "Requirement already satisfied: jsonpointer>=1.9 in c:\\users\\mikan\\documents\\python\\signate_fdua_rag\\lib\\site-packages (from jsonpatch<2.0,>=1.33->langchain-core<0.4,>=0.3->langchain-openai==0.2.0) (3.0.0)\n",
      "Requirement already satisfied: orjson<4.0.0,>=3.9.14 in c:\\users\\mikan\\documents\\python\\signate_fdua_rag\\lib\\site-packages (from langsmith<0.2.0,>=0.1.117->langchain-core<0.4,>=0.3->langchain-openai==0.2.0) (3.10.15)\n",
      "Requirement already satisfied: requests-toolbelt<2.0.0,>=1.0.0 in c:\\users\\mikan\\documents\\python\\signate_fdua_rag\\lib\\site-packages (from langsmith<0.2.0,>=0.1.117->langchain-core<0.4,>=0.3->langchain-openai==0.2.0) (1.0.0)\n",
      "Requirement already satisfied: annotated-types>=0.6.0 in c:\\users\\mikan\\documents\\python\\signate_fdua_rag\\lib\\site-packages (from pydantic<3.0.0,>=2.7.4->langchain-core<0.4,>=0.3->langchain-openai==0.2.0) (0.7.0)\n",
      "Requirement already satisfied: pydantic-core==2.27.2 in c:\\users\\mikan\\documents\\python\\signate_fdua_rag\\lib\\site-packages (from pydantic<3.0.0,>=2.7.4->langchain-core<0.4,>=0.3->langchain-openai==0.2.0) (2.27.2)\n",
      "Requirement already satisfied: charset-normalizer<4,>=2 in c:\\users\\mikan\\documents\\python\\signate_fdua_rag\\lib\\site-packages (from requests>=2.26.0->tiktoken<1,>=0.7->langchain-openai==0.2.0) (3.4.1)\n",
      "Requirement already satisfied: urllib3<3,>=1.21.1 in c:\\users\\mikan\\documents\\python\\signate_fdua_rag\\lib\\site-packages (from requests>=2.26.0->tiktoken<1,>=0.7->langchain-openai==0.2.0) (2.3.0)\n",
      "Requirement already satisfied: colorama in c:\\users\\mikan\\documents\\python\\signate_fdua_rag\\lib\\site-packages (from tqdm>4->openai<2.0.0,>=1.40.0->langchain-openai==0.2.0) (0.4.6)\n"
     ]
    },
    {
     "name": "stderr",
     "output_type": "stream",
     "text": [
      "\n",
      "[notice] A new release of pip is available: 24.0 -> 25.0\n",
      "[notice] To update, run: python.exe -m pip install --upgrade pip\n"
     ]
    }
   ],
   "source": [
    "!pip install python-dotenv\n",
    "!pip install pandas\n",
    "!pip install langchain-core==0.3.0\n",
    "!pip install langchain-openai==0.2.0"
   ]
  },
  {
   "cell_type": "code",
   "execution_count": 2,
   "id": "65e53259-40f2-4a65-bdb3-1dd99793a3eb",
   "metadata": {},
   "outputs": [],
   "source": [
    "from dotenv import load_dotenv\n",
    "load_dotenv(verbose=True)\n",
    "dotenv_path = \".env\"\n",
    "load_dotenv(dotenv_path)\n",
    "\n",
    "from langchain_core.prompts import ChatPromptTemplate\n",
    "from langchain_openai import ChatOpenAI\n",
    "from pydantic import BaseModel, Field\n",
    "\n",
    "from IPython.display import display, Markdown"
   ]
  },
  {
   "cell_type": "markdown",
   "id": "1ad6cb75-bcc0-4514-9ee7-6f57e143aaf6",
   "metadata": {},
   "source": [
    "### 定数"
   ]
  },
  {
   "cell_type": "code",
   "execution_count": 3,
   "id": "22d8a560-d547-414b-a8c9-b681c65f970e",
   "metadata": {},
   "outputs": [],
   "source": [
    "QUERY1 = \"2023年で即席めんの一人当たりの年間消費量が最も多い国はどこか。\""
   ]
  },
  {
   "cell_type": "code",
   "execution_count": 4,
   "id": "f5a665a9-1304-47e0-95ec-124d90bd835f",
   "metadata": {},
   "outputs": [],
   "source": [
    "IMG1 = \"https://signate-fdua-rag.s3.ap-northeast-1.amazonaws.com/日清食品ホールディングス株式会社_69_70.png\""
   ]
  },
  {
   "cell_type": "code",
   "execution_count": 5,
   "id": "ff34894d-4a9a-4558-9c1a-a53f3a673a32",
   "metadata": {},
   "outputs": [],
   "source": [
    "QUERY2 = \"東洋エンジニアリングの取締役が有する専門的知見や経験分野として多く選択されている項目は、『法務・法規則』と『人事・労務』のどちらでしょうか？\""
   ]
  },
  {
   "cell_type": "code",
   "execution_count": 6,
   "id": "31cd0bc4-6842-4cc7-959f-7cc3bd7f0c37",
   "metadata": {},
   "outputs": [],
   "source": [
    "IMG2 = \"https://signate-fdua-rag.s3.ap-northeast-1.amazonaws.com/東洋エンジニアリング株式会社_40_49.png\""
   ]
  },
  {
   "cell_type": "code",
   "execution_count": 7,
   "id": "6a69d7f8-163f-4b75-8c38-5a9a9f4b3066",
   "metadata": {},
   "outputs": [],
   "source": [
    "QUERY3 = \"全国保証株式会社の有給休暇取得日数は2023/3期対比2024/3期は何日増加しましたか？\""
   ]
  },
  {
   "cell_type": "code",
   "execution_count": 8,
   "id": "f150d3ce-9809-4cf2-9b8b-5b4e30adc53b",
   "metadata": {},
   "outputs": [],
   "source": [
    "IMG3_1 = \"https://signate-fdua-rag.s3.ap-northeast-1.amazonaws.com/全国保証株式会社_16_42.png\""
   ]
  },
  {
   "cell_type": "code",
   "execution_count": 9,
   "id": "3f9371e1-a80b-4afb-a21a-9c3f52526a56",
   "metadata": {},
   "outputs": [],
   "source": [
    "IMG3_2 = \"https://signate-fdua-rag.s3.ap-northeast-1.amazonaws.com/全国保証株式会社_17_42.png\""
   ]
  },
  {
   "cell_type": "code",
   "execution_count": 10,
   "id": "4f8ef9fe-49f1-4e96-98da-1f57d176fa57",
   "metadata": {},
   "outputs": [],
   "source": [
    "IMG3_3 = \"https://signate-fdua-rag.s3.ap-northeast-1.amazonaws.com/全国保証株式会社_11_42.png\""
   ]
  },
  {
   "cell_type": "code",
   "execution_count": 11,
   "id": "9906e2f0-3f1b-408c-8790-c77ed95571f6",
   "metadata": {},
   "outputs": [],
   "source": [
    "IMG3_4 = \"https://signate-fdua-rag.s3.ap-northeast-1.amazonaws.com/全国保証株式会社_12_42.png\""
   ]
  },
  {
   "cell_type": "markdown",
   "id": "8615e6dc-d27a-493a-82af-57b4ff532cdf",
   "metadata": {},
   "source": [
    "### IMGファイルから直接回答を生成する"
   ]
  },
  {
   "cell_type": "markdown",
   "id": "51d13105-fabd-459f-8833-590692821aaa",
   "metadata": {},
   "source": [
    "* 答えが記載されているページのみを入力し、質問に回答できるか検証\n",
    "* 実際にはどのページに答えが記載されているか不明なので、質問に関する企業レポートを全ページ or 数ページずつ入力する必要がある、さらにその結果から結論を出す必要もある"
   ]
  },
  {
   "cell_type": "code",
   "execution_count": 12,
   "id": "8395a719-1d45-4f81-b48f-060d3688e895",
   "metadata": {},
   "outputs": [],
   "source": [
    "class Answer(BaseModel):\n",
    "    answer: str = Field(description=\"画像をもとに考えた回答\")\n",
    "    reason: str = Field(\"回答の理由\")"
   ]
  },
  {
   "cell_type": "code",
   "execution_count": 13,
   "id": "19609a09-5bd0-4fd9-a3e4-2edfa7cac7d1",
   "metadata": {},
   "outputs": [],
   "source": [
    "def answer_from_img(query, img_url):\n",
    "    prompt = ChatPromptTemplate.from_messages(\n",
    "        [\n",
    "            (\n",
    "                \"user\",\n",
    "                [\n",
    "                    {\n",
    "                        \"type\": \"text\",\n",
    "                        \"text\": (\n",
    "                            \"ユーザが入力した画像をもとに、質問に回答してください。\\n\"\n",
    "                            \"回答と合わせて理由も教えてください。\\n\"\n",
    "                            \"ステップバイステップに考えましょう。\\n\\n\"\n",
    "                            \"質問:\\n\"\n",
    "                            \"{query}\"\n",
    "                        ),\n",
    "                    },\n",
    "                    {\n",
    "                        \"type\": \"image_url\",\n",
    "                        \"image_url\": \"{img_url}\",\n",
    "                    },\n",
    "                ]\n",
    "            )\n",
    "        ]\n",
    "    )\n",
    "\n",
    "    model = ChatOpenAI(model=\"gpt-4o\")\n",
    "\n",
    "    chain = prompt | model.with_structured_output(Answer)\n",
    "\n",
    "    answer = chain.invoke({\n",
    "        \"query\": query,\n",
    "        \"img_url\": img_url,\n",
    "    })\n",
    "\n",
    "    return answer"
   ]
  },
  {
   "cell_type": "code",
   "execution_count": 14,
   "id": "06e7ab4d-9ba8-473e-a3cd-46faed78fbbe",
   "metadata": {},
   "outputs": [
    {
     "data": {
      "text/plain": [
       "Answer(answer='韓国が2023年で即席めんの一人当たりの年間消費量が最も多い国です。', reason='画像のデータによると、韓国の2023年の一人当たりの即席めん消費量は78.3食であり、他の国と比較して最も高い値です。')"
      ]
     },
     "execution_count": 14,
     "metadata": {},
     "output_type": "execute_result"
    }
   ],
   "source": [
    "answer_from_img(QUERY1, IMG1)"
   ]
  },
  {
   "cell_type": "markdown",
   "id": "d29424e4-7fa9-4a1f-baf3-df2f3d4d75e3",
   "metadata": {},
   "source": [
    "* 正解はベトナムの80.9食なので誤り\n",
    "* ただし、韓国の2023年の一人当たりの即席めん年間消費量は78.3食で2位なので、表は一定解釈が出来てそう"
   ]
  },
  {
   "cell_type": "code",
   "execution_count": 15,
   "id": "099c8d0d-a822-4622-8d8d-c0195b56b918",
   "metadata": {},
   "outputs": [
    {
     "data": {
      "text/plain": [
       "Answer(answer='『法務・法規則』の方が多く選択されています。', reason='画像のスキルマトリックスを見ると、『法務・法規則』の項目には複数の取締役が該当している一方、『人事・労務』の項目にはそれよりも少ない取締役しか該当していません。このことから、『法務・法規則』の方が多くの取締役によって選択されていることがわかります。')"
      ]
     },
     "execution_count": 15,
     "metadata": {},
     "output_type": "execute_result"
    }
   ],
   "source": [
    "answer_from_img(QUERY2, IMG2)"
   ]
  },
  {
   "cell_type": "markdown",
   "id": "e6ba58c5-223f-4a48-bfa5-75e0a2d7e2fc",
   "metadata": {},
   "source": [
    "* 法務・法規則が3人、人事・労務が2人なので正解"
   ]
  },
  {
   "cell_type": "code",
   "execution_count": 16,
   "id": "cecc00b3-6fe5-43ef-839a-8146abde5409",
   "metadata": {},
   "outputs": [
    {
     "data": {
      "text/plain": [
       "Answer(answer='全国保証株式会社の有給休暇取得日数は、2023/3期で11.8日、2024/3期で12.9日です。したがって、2024/3期は2023/3期に比べて1.1日増加しました。', reason='画像の中で、有給休暇取得日数のグラフを確認しました。2023/3期では11.8日、2024/3期では12.9日と示されています。したがって、2024/3期は2023/3期に比べて1.1日増加しています。')"
      ]
     },
     "execution_count": 16,
     "metadata": {},
     "output_type": "execute_result"
    }
   ],
   "source": [
    "answer_from_img(QUERY3, IMG3_1)"
   ]
  },
  {
   "cell_type": "markdown",
   "id": "6260659a-53a6-485b-bf12-9db910bacf17",
   "metadata": {},
   "source": [
    "* 2023/3期では11.8日、2024/3期では12.9日、差分は1.1日なので正解"
   ]
  },
  {
   "cell_type": "markdown",
   "id": "eba68165-d157-490d-861d-b63d736d07db",
   "metadata": {},
   "source": [
    "### 複数のIMGファイルから直接回答を生成する"
   ]
  },
  {
   "cell_type": "markdown",
   "id": "a59d2e2a-54b2-4685-9d48-87a705619b47",
   "metadata": {},
   "source": [
    "* 複数画像からの回答はできそう\n",
    "* P.1-3、P.2-4、...とウィンドウをずらしていけばよさそう"
   ]
  },
  {
   "cell_type": "code",
   "execution_count": 17,
   "id": "f5ee3e90-3d70-4dbd-82de-50688d2f9e9e",
   "metadata": {},
   "outputs": [],
   "source": [
    "def answer_from_multiple_imgs(query, img_url_1, img_url_2):\n",
    "    prompt = ChatPromptTemplate.from_messages(\n",
    "        [\n",
    "            (\n",
    "                \"user\",\n",
    "                [\n",
    "                    {\n",
    "                        \"type\": \"text\",\n",
    "                        \"text\": (\n",
    "                            \"ユーザが入力した2つの画像をもとに、質問に回答してください。\\n\"\n",
    "                            \"回答と合わせて理由も教えてください。\\n\"\n",
    "                            \"回答に自信がない場合、無理に答えないでください。\\n\"\n",
    "                            \"ステップバイステップに考えましょう。\\n\\n\"\n",
    "                            \"質問:\\n\"\n",
    "                            \"{query}\"\n",
    "                        ),\n",
    "                    },\n",
    "                    {\n",
    "                        \"type\": \"image_url\",\n",
    "                        \"image_url\": \"{img_url_1}\",\n",
    "                    },\n",
    "                    {\n",
    "                        \"type\": \"image_url\",\n",
    "                        \"image_url\": \"{img_url_2}\",\n",
    "                    },\n",
    "                ]\n",
    "            )\n",
    "        ]\n",
    "    )\n",
    "\n",
    "    model = ChatOpenAI(model=\"gpt-4o\")\n",
    "\n",
    "    chain = prompt | model.with_structured_output(Answer)\n",
    "\n",
    "    answer = chain.invoke({\n",
    "        \"query\": query,\n",
    "        \"img_url_1\": img_url_1,\n",
    "        \"img_url_2\": img_url_2,\n",
    "    })\n",
    "\n",
    "    return answer"
   ]
  },
  {
   "cell_type": "code",
   "execution_count": 18,
   "id": "7ab4262d-ed37-43de-9fd1-d24d9c7ddff5",
   "metadata": {},
   "outputs": [
    {
     "data": {
      "text/plain": [
       "Answer(answer='2023/3期の有給休暇取得日数は11.8日、2024/3期は12.9日です。これにより、2024/3期は2023/3期よりも1.1日増加しています。', reason='画像のデータから、有給休暇取得日数が2023/3期では11.8日、2024/3期では12.9日であることが確認できます。この差を計算すると、1.1日増加しています。')"
      ]
     },
     "execution_count": 18,
     "metadata": {},
     "output_type": "execute_result"
    }
   ],
   "source": [
    "answer_from_multiple_imgs(QUERY3, IMG3_1, IMG3_2)"
   ]
  },
  {
   "cell_type": "markdown",
   "id": "8314d05f-f59a-48b2-b718-e4e0f2355fb0",
   "metadata": {},
   "source": [
    "### 複数の回答から結論の回答を生成する"
   ]
  },
  {
   "cell_type": "markdown",
   "id": "3e61c226-b902-469b-bf9e-f6dd513b3b8f",
   "metadata": {},
   "source": [
    "* 妥当そうな回答が1つであれば結論を求められそう"
   ]
  },
  {
   "cell_type": "code",
   "execution_count": 19,
   "id": "417b81d6-1ed4-43f8-9aac-3112594d30e5",
   "metadata": {},
   "outputs": [],
   "source": [
    "class Conclusion(BaseModel):\n",
    "    conclusion: str = Field(description=\"複数の回答をもとに、最終的に結論とした導いた端的な回答\")\n",
    "    reason: str = Field(\"結論とした理由\")"
   ]
  },
  {
   "cell_type": "code",
   "execution_count": 20,
   "id": "0cfae2dc-89aa-425e-9fce-68dffae8387a",
   "metadata": {},
   "outputs": [],
   "source": [
    "def conclude(query, ans1, ans2):\n",
    "    prompt = ChatPromptTemplate.from_messages(\n",
    "        [\n",
    "            (\n",
    "                \"user\",\n",
    "                [\n",
    "                    {\n",
    "                        \"type\": \"text\",\n",
    "                        \"text\": (\n",
    "                            \"質問に対してAIがいくつかの画像を参照して生成した回答があります。\\n\"\n",
    "                            \"質問と複数の回答を踏まえ、結論として最終的な回答だけを単語で端的に教えてください。\\n\\n\"\n",
    "                            \"質問:\\n\"\n",
    "                            \"{query}\\n\\n\"\n",
    "                            \"回答1:\\n\"\n",
    "                            \"{ans1}\\n\\n\"\n",
    "                            \"回答2:\\n\"\n",
    "                            \"{ans2}\"\n",
    "                        )\n",
    "                    }\n",
    "                ]\n",
    "            )\n",
    "        ]\n",
    "    )\n",
    "\n",
    "    model = ChatOpenAI(model=\"gpt-4o-mini\")\n",
    "\n",
    "    chain = prompt | model.with_structured_output(Conclusion)\n",
    "\n",
    "    conclusion = chain.invoke({\n",
    "        \"query\": query,\n",
    "        \"ans1\": ans1,\n",
    "        \"ans2\": ans2,\n",
    "    })\n",
    "\n",
    "    return conclusion"
   ]
  },
  {
   "cell_type": "code",
   "execution_count": 21,
   "id": "9fd8f5cc-c1a6-4b78-a2ef-647845e772d7",
   "metadata": {},
   "outputs": [
    {
     "data": {
      "text/plain": [
       "Answer(answer='2023/3期の有給休暇取得日数は11.8日で、2024/3期は12.9日です。したがって、有給休暇取得日数は1.1日増加しました。', reason='画像のデータを確認すると、2023/3期の有給休暇取得日数は11.8日と記載されています。2024/3期の有給休暇取得日数は12.9日です。このため、2024/3期は2023/3期と比較して1.1日増加しています。')"
      ]
     },
     "execution_count": 21,
     "metadata": {},
     "output_type": "execute_result"
    }
   ],
   "source": [
    "ans1 = answer_from_multiple_imgs(QUERY3, IMG3_1, IMG3_2)\n",
    "ans1"
   ]
  },
  {
   "cell_type": "code",
   "execution_count": 22,
   "id": "6b1e0f3a-e61a-458b-8bd0-8a25d5cca9bf",
   "metadata": {},
   "outputs": [
    {
     "data": {
      "text/plain": [
       "Answer(answer='提供された画像には、全国保証株式会社の有給休暇取得日数に関する情報は含まれていません。そのため、増加日数を判断することはできません。', reason='回答の理由')"
      ]
     },
     "execution_count": 22,
     "metadata": {},
     "output_type": "execute_result"
    }
   ],
   "source": [
    "ans2 = answer_from_multiple_imgs(QUERY3, IMG3_3, IMG3_4)\n",
    "ans2"
   ]
  },
  {
   "cell_type": "code",
   "execution_count": 23,
   "id": "d7e4a2ec-d9d2-47f9-a68e-d9e1049ee01d",
   "metadata": {},
   "outputs": [
    {
     "data": {
      "text/plain": [
       "Conclusion(conclusion='1.1日', reason='回答1からの情報')"
      ]
     },
     "execution_count": 23,
     "metadata": {},
     "output_type": "execute_result"
    }
   ],
   "source": [
    "conclude(QUERY3, ans1.answer, ans2.answer)"
   ]
  },
  {
   "cell_type": "markdown",
   "id": "16a39865-4ae9-416c-a88e-32d412aa9c36",
   "metadata": {},
   "source": [
    "### IMGファイルから文字起こし"
   ]
  },
  {
   "cell_type": "markdown",
   "id": "fdecf189-dfee-46fd-9874-284d674306dd",
   "metadata": {},
   "source": [
    "* 精度はあまりよくないが、表やグラフであることは解釈できてそう\n",
    "* AI Document Intelligenceと合わせ技で精度よくなるかも[（参考）](https://dev.classmethod.jp/articles/fix-claude3-text-recognition-mistake-with-azure-document-intelligence/)"
   ]
  },
  {
   "cell_type": "code",
   "execution_count": 24,
   "id": "a8d88111-e48d-468c-b07a-7ee7a49a1384",
   "metadata": {},
   "outputs": [],
   "source": [
    "class Transcription(BaseModel):\n",
    "    markdown_text: str = Field(description=\"画像をmarkdown形式で文字起こしした結果\")"
   ]
  },
  {
   "cell_type": "code",
   "execution_count": 25,
   "id": "0ece062f-9c06-46a4-9dab-cfb24b5d4172",
   "metadata": {},
   "outputs": [],
   "source": [
    "def transcribe(img_url):\n",
    "    prompt = ChatPromptTemplate.from_messages(\n",
    "        [\n",
    "            (\n",
    "                \"user\",\n",
    "                [\n",
    "                    {\n",
    "                        \"type\": \"text\",\n",
    "                        \"text\": (\n",
    "                            \"ユーザが入力した画像について、markdown形式で文字起こししてください。\\n\"\n",
    "                            \"表についてもmarkdown形式で文字起こししてください。\\n\"\n",
    "                            \"グラフや画像については、言葉で簡潔に説明してください。\\n\"\n",
    "                            \"内容は漏れなく文字起こししてください。\\n\"\n",
    "                        )\n",
    "                    },\n",
    "                    {\n",
    "                        \"type\": \"image_url\",\n",
    "                        \"image_url\": \"{img_url}\"\n",
    "                    },\n",
    "                ]\n",
    "            )\n",
    "        ]\n",
    "    )\n",
    "\n",
    "    model = ChatOpenAI(model=\"gpt-4o\")\n",
    "\n",
    "    chain = prompt | model.with_structured_output(Transcription)\n",
    "\n",
    "    transcription = chain.invoke({\n",
    "        \"img_url\": img_url\n",
    "    })\n",
    "\n",
    "    return transcription"
   ]
  },
  {
   "cell_type": "code",
   "execution_count": 26,
   "id": "c43e632a-bfcc-4281-a873-c5894dc7c056",
   "metadata": {},
   "outputs": [
    {
     "data": {
      "text/markdown": [
       "## データ\n",
       "\n",
       "### 即席めんの世界市場データ\n",
       "\n",
       "| 国名／地域   | 人口*1 (100万人) | GDP*2 (10億米ドル) | 一人当たりGDP*2 (米ドル) | 総需要*3, *4 (億食) |\n",
       "|--------------|----------------|-----------------|---------------------|-----------------|\n",
       "|              |                |                 |                     | CY2014 | CY2015 | CY2016 | CY2017 | CY2018 | CY2019 | CY2020 | CY2021 | CY2022 | CY2023 | 一人当たりの消費量*4 (食) |\n",
       "| 中国         | 1,411.4        | 17,701          | 12,541              | 444.0  | 404.3  | 385.2  | 389.6  | 402.5  | 414.5  | 463.6  | 439.9  | 450.7  | 422.1  | 29.7  |\n",
       "| 香港         | 7.5            | 386             | 51,168              | 44.0   | 40.4   | 38.5   | 38.6   | 40.2   | 41.5   | 46.3   | 43.9   | 45.7   | 42.1   | 29.7  |\n",
       "| インドネシア | 277.4          | 1,417           | 5,109               | 134.3  | 132.0  | 130.1  | 126.2  | 125.4  | 125.2  | 126.4  | 132.7  | 142.6  | 145.4  | 52.4  |\n",
       "| ベトナム     | 100.4          | 433             | 4,316               | 50.0   | 48.0   | 49.2   | 50.6   | 52.0   | 54.4   | 70.3   | 85.6   | 84.8   | 81.3   | 80.9  |\n",
       "| インド       | 1,428.6        | 3,732           | 2,612               | 53.4   | 32.6   | 42.7   | 54.2   | 60.6   | 67.3   | 67.3   | 75.6   | 75.8   | 66.8   | 6.1   |\n",
       "| 日本         | 124.6          | 4,231           | 33,950              | 55.0   | 55.4   | 56.6   | 56.6   | 57.8   | 56.3   | 59.7   | 58.5   | 59.8   | 58.4   | 46.9  |\n",
       "| フィリピン   | 112.9          | 436             | 3,859               | 33.2   | 34.8   | 34.0   | 37.5   | 39.8   | 38.5   | 44.7   | 44.4   | 42.9   | 43.9   | 38.9  |\n",
       "| 韓国         | 51.6           | 1,709           | 33,147              | 35.9   | 36.5   | 38.8   | 37.4   | 38.2   | 39.0   | 41.3   | 37.9   | 39.5   | 40.4   | 78.3  |\n",
       "| タイ         | 70.2           | 512             | 7,298               | 30.7   | 30.7   | 33.6   | 33.9   | 34.6   | 35.7   | 37.1   | 36.3   | 38.7   | 39.5   | 56.3  |\n",
       "| マレーシア   | 33.1           | 431             | 13,034              | 13.4   | 13.7   | 13.9   | 13.1   | 13.7   | 14.5   | 15.7   | 15.8   | 15.5   | 16.4   | 49.6  |\n",
       "| カンボジア   | 16.2           | 31              | 1,916               | 2.5    | 2.7    | 2.8    | 3.3    | 3.3    | 3.5    | 3.7    | 4.1    | 4.0    | 4.2    | 26.1  |\n",
       "| シンガポール | 5.7            | 497             | 87,884              | 1.3    | 1.3    | 1.3    | 1.3    | 1.3    | 1.3    | 1.6    | 1.4    | 1.3    | 1.3    | 23.1  |\n",
       "| アジア計     | -              | -               | -                   | 887.9  | 827.8  | 828.2  | 847.9  | 876.0  | 900.3  | 985.5  | 991.1  | 1,016.6| 995.5  | -     |\n",
       "| オセアニア計 | -              | -               | -                   | 4.4    | 4.5    | 4.6    | 4.8    | 5.0    | 5.1    | 5.3    | 5.5    | 5.5    | 6.2    | -     |\n",
       "| アメリカ     | 335.1          | 26,950          | 80,412              | 42.8   | 40.8   | 41.2   | 41.3   | 45.2   | 46.3   | 50.5   | 49.8   | 51.5   | 51.0   | 15.2  |\n",
       "| 北米計       | -              | -               | -                   | 44.7   | 42.7   | 43.1   | 43.2   | 47.1   | 48.2   | 52.4   | 51.8   | 53.5   | 53.0   | -     |\n",
       "| ブラジル     | 204.2          | 2,127           | 10,413              | 23.7   | 23.7   | 23.7   | 22.5   | 23.9   | 24.2   | 27.2   | 28.5   | 28.3   | 25.5   | 12.5  |\n",
       "| メキシコ     | 131.2          | 1,811           | 13,804              | 9.0    | 8.5    | 8.9    | 9.1    | 11.2   | 11.7   | 11.6   | 13.6   | 15.1   | 15.5   | 11.8  |\n",
       "| 中南米計     | -              | -               | -                   | 36.7   | 36.0   | 37.1   | 36.9   | 39.6   | 40.7   | 43.6   | 47.5   | 49.3   | 47.5   | -     |\n",
       "| ロシア       | 143.2          | 1,862           | 13,006              | 19.4   | 18.4   | 15.7   | 17.8   | 18.5   | 19.1   | 20.0   | 21.0   | 22.0   | 22.0   | 15.4  |\n",
       "| イギリス     | 68.1           | 3,332           | 48,913              | 3.6    | 3.6    | 3.0    | 3.0    | 3.2    | 3.5    | 3.8    | 4.2    | 4.2    | 4.0    | 6.0   |\n",
       "| ドイツ       | 83.9           | 4,430           | 52,824              | 1.8    | 1.9    | 2.3    | 2.3    | 3.2    | 3.3    | 3.7    | 3.9    | 3.9    | 3.9    | 4.6   |\n",
       "| フランス     | 65.8           | 3,049           | 46,315              | 0.6    | 0.6    | 0.6    | 0.9    | 0.8    | 0.9    | 1.0    | 1.1    | 1.1    | 1.1    | 1.7   |\n",
       "| ハンガリー   | 9.7            | 204             | 21,076              | 0.4    | 0.4    | 0.3    | 0.4    | 0.3    | 0.4    | 0.4    | 0.4    | 0.4    | 0.4    | 4.0   |\n",
       "| ヨーロッパ計 | -              | -               | -                   | 36.7   | 34.6   | 33.6   | 32.2   | 35.6   | 37.0   | 39.1   | 41.7   | 39.7   | 40.2   | -     |\n",
       "| アフリカ計   | -              | -               | -                   | 19.8   | 20.1   | 21.4   | 23.0   | 24.3   | 26.2   | 33.7   | 36.7   | 40.1   | 49.5   | -     |\n",
       "| 合計         | -              | -               | -                   | 1,093.6| 974.9  | 975.2  | 1,001.1| 1,036.2| 1,064.2| 1,165.6| 1,181.8| 1,212.0| 1,202.1| -     |\n",
       "\n",
       "### [出所]\n",
       "*1 International Monetary Fund(IMF)  *2 世界ラーメン協会(WINA)  *3 一部、 漸次修正している国・地域があります  *4 人口と2023年の総需要量に基づき算出\n",
       "\n",
       "---\n",
       "ページ番号: 69\n"
      ],
      "text/plain": [
       "<IPython.core.display.Markdown object>"
      ]
     },
     "metadata": {},
     "output_type": "display_data"
    }
   ],
   "source": [
    "display(Markdown(transcribe(IMG1).markdown_text))"
   ]
  },
  {
   "cell_type": "code",
   "execution_count": 27,
   "id": "ed05a0b5-776b-4a60-9ab6-ae29e7515e7c",
   "metadata": {},
   "outputs": [
    {
     "data": {
      "text/markdown": [
       "### 非財務ハイライト\n",
       "\n",
       "#### 従業員数／男女別\n",
       "- **292人**／男性**204人**・女性**88人**\n",
       "  - グラフ：2020/3から2024/3にかけての男性と女性の人数の推移を示す棒グラフ。\n",
       "\n",
       "#### 新規採用者数／男女別\n",
       "- **25人**／男性**16人**・女性**9人**\n",
       "  - グラフ：2020/3から2024/3にかけての新規採用者数の推移を示す棒グラフ。\n",
       "\n",
       "#### 男女別平均勤続年数\n",
       "- 男性**11.7年**・女性**8.7年**\n",
       "  - グラフ：2020/3から2024/3にかけての勤続年数の推移を示す折れ線グラフ。\n",
       "\n",
       "#### 男女別育休取得率\n",
       "- 男性**100%**・女性**100%**\n",
       "  - グラフ：2020/3から2024/3にかけての育休取得率の推移を示す折れ線グラフ。\n",
       "\n",
       "#### 障がい者雇用率\n",
       "- **2.59%**\n",
       "  - グラフ：2020/3から2024/3にかけての雇用率の推移を示す折れ線グラフ。\n",
       "\n",
       "#### 有給休暇取得日数\n",
       "- **12.9日**\n",
       "  - グラフ：2020/3から2024/3にかけての有給休暇取得日数の推移を示す棒グラフ。\n",
       "\n",
       "#### 育児休業復職率\n",
       "- **100%**\n",
       "  - グラフ：2020/3から2024/3にかけての復職率の推移を示す折れ線グラフ。\n",
       "\n",
       "#### 社内取締役・社外取締役人数／社外取締役比率\n",
       "- 社外取締役比率**42.9%**\n",
       "  - グラフ：2020/3から2024/3にかけての取締役人数と社外取締役比率の推移を示す棒グラフ。\n",
       "\n",
       "#### 有給休暇取得率\n",
       "- **66.8%**\n",
       "  - グラフ：2020/3から2024/3にかけての取得率の推移を示す折れ線グラフ。\n",
       "\n",
       "#### 1ヶ月当たり法定外労働時間\n",
       "- **16.2時間**\n",
       "  - グラフ：2020/3から2024/3にかけての労働時間の推移を示す折れ線グラフ。\n",
       "\n",
       "#### 社内監査役・社外監査役人数／社外監査役比率\n",
       "- 社外監査役比率**75.0%**\n",
       "  - グラフ：2020/3から2024/3にかけての監査役人数と社外監査役比率の推移を示す棒グラフ。\n",
       "\n",
       "#### 女性役員比率\n",
       "- **18.2%**\n",
       "  - グラフ：2020/3から2024/3にかけての役員比率の推移を示す折れ線グラフ。\n",
       "\n",
       "---\n",
       "- **Page 29** | **ZENKOKU HOSHO Co., Ltd.**\n",
       "- **Page 30** | **Integrated Report 2024**"
      ],
      "text/plain": [
       "<IPython.core.display.Markdown object>"
      ]
     },
     "metadata": {},
     "output_type": "display_data"
    }
   ],
   "source": [
    "display(Markdown(transcribe(IMG3_1).markdown_text))"
   ]
  }
 ],
 "metadata": {
  "kernelspec": {
   "display_name": "Python 3 (ipykernel)",
   "language": "python",
   "name": "python3"
  },
  "language_info": {
   "codemirror_mode": {
    "name": "ipython",
    "version": 3
   },
   "file_extension": ".py",
   "mimetype": "text/x-python",
   "name": "python",
   "nbconvert_exporter": "python",
   "pygments_lexer": "ipython3",
   "version": "3.12.4"
  }
 },
 "nbformat": 4,
 "nbformat_minor": 5
}
