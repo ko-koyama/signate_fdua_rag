{
 "cells": [
  {
   "cell_type": "markdown",
   "id": "80e6e373-da37-48ac-a82c-34c707c3a5b5",
   "metadata": {},
   "source": [
    "## pdf to img"
   ]
  },
  {
   "cell_type": "markdown",
   "id": "8b29c4df-af6a-417a-9ade-6303916c77fd",
   "metadata": {},
   "source": [
    "* pdfをimg化する"
   ]
  },
  {
   "cell_type": "markdown",
   "id": "9d4de638-1ce5-4a13-a438-e09f2105b896",
   "metadata": {},
   "source": [
    "### 設定"
   ]
  },
  {
   "cell_type": "code",
   "execution_count": 1,
   "id": "0cdc8539-28f9-4c42-9e8a-9b5318dd2e4c",
   "metadata": {},
   "outputs": [
    {
     "name": "stdout",
     "output_type": "stream",
     "text": [
      "Requirement already satisfied: PyMuPDF in c:\\users\\mikan\\documents\\python\\signate_fdua_rag\\lib\\site-packages (1.25.3)\n"
     ]
    },
    {
     "name": "stderr",
     "output_type": "stream",
     "text": [
      "\n",
      "[notice] A new release of pip is available: 24.0 -> 25.0\n",
      "[notice] To update, run: python.exe -m pip install --upgrade pip\n"
     ]
    }
   ],
   "source": [
    "!pip install PyMuPDF"
   ]
  },
  {
   "cell_type": "code",
   "execution_count": 2,
   "id": "22f535ef-56ff-45a8-af49-e544e4ca7c32",
   "metadata": {},
   "outputs": [],
   "source": [
    "import os\n",
    "\n",
    "import fitz"
   ]
  },
  {
   "cell_type": "markdown",
   "id": "5a69bfb4-cdf4-4a9c-a4af-2edf3e5c3af2",
   "metadata": {},
   "source": [
    "### 定数"
   ]
  },
  {
   "cell_type": "code",
   "execution_count": 3,
   "id": "79dcaae0-53f1-4b38-938f-2f76c854383a",
   "metadata": {},
   "outputs": [],
   "source": [
    "LIST_COMPANY_NAME = [\n",
    "    \"カゴメ株式会社\",\n",
    "    \"グローリー株式会社\",\n",
    "    \"サントリーホールディングス株式会社\",\n",
    "    \"ハウス食品グループ本社株式会社\",\n",
    "    \"パナソニックホールディングス株式会社\",\n",
    "    \"全国保証株式会社\",\n",
    "    \"日清食品ホールディングス株式会社\",\n",
    "    \"日産自動車株式会社\",\n",
    "    \"明治ホールディングス株式会社\",\n",
    "    \"東急不動産ホールディングス株式会社\",\n",
    "    \"東洋エンジニアリング株式会社\",\n",
    "    \"株式会社IHI\",\n",
    "    \"株式会社キッツ\",\n",
    "    \"株式会社クレハ\",\n",
    "    \"株式会社メディアドゥ\",\n",
    "    \"株式会社モスフードサービス\",\n",
    "    \"株式会社4℃ホールディングス\",\n",
    "    \"株式会社ライフコーポレーション\",\n",
    "    \"株式会社高松コンストラクショングループ\",\n",
    "]"
   ]
  },
  {
   "cell_type": "markdown",
   "id": "3c664de4-a576-4c4e-888f-85f896431ffe",
   "metadata": {},
   "source": [
    "### pdfをimg化"
   ]
  },
  {
   "cell_type": "code",
   "execution_count": 4,
   "id": "f2ac0ee3-a564-47e8-a259-4d56c045780d",
   "metadata": {},
   "outputs": [],
   "source": [
    "zoom_x = 2.0  # 横方向の解像度\n",
    "zoom_y = 2.0  # 縦方向の解像度\n",
    "matrix = fitz.Matrix(zoom_x, zoom_y)"
   ]
  },
  {
   "cell_type": "code",
   "execution_count": 5,
   "id": "db057dec-3807-4069-8398-1a208e10dfc7",
   "metadata": {},
   "outputs": [],
   "source": [
    "for company_name in LIST_COMPANY_NAME:\n",
    "    pdf = fitz.open(f\"../data/documents/{company_name}.pdf\")\n",
    "\n",
    "    for page_num in range(pdf.page_count):\n",
    "        page = pdf.load_page(page_num)  # ページを読み込む\n",
    "        pix = page.get_pixmap(matrix=matrix)  # ページを画像として取得\n",
    "        img_path = f\"../data/images/{company_name}_{page_num+1}_{pdf.page_count}.png\"\n",
    "        pix.save(img_path)"
   ]
  }
 ],
 "metadata": {
  "kernelspec": {
   "display_name": "Python 3 (ipykernel)",
   "language": "python",
   "name": "python3"
  },
  "language_info": {
   "codemirror_mode": {
    "name": "ipython",
    "version": 3
   },
   "file_extension": ".py",
   "mimetype": "text/x-python",
   "name": "python",
   "nbconvert_exporter": "python",
   "pygments_lexer": "ipython3",
   "version": "3.12.4"
  }
 },
 "nbformat": 4,
 "nbformat_minor": 5
}
