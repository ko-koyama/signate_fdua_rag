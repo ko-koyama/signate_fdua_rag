{
 "cells": [
  {
   "cell_type": "markdown",
   "id": "6b589d74-b8d6-43cb-a291-8ec2c6056d11",
   "metadata": {},
   "source": [
    "## pdf to markdown"
   ]
  },
  {
   "cell_type": "markdown",
   "id": "cb870527-bb96-4e0a-adeb-5e8e3c3a76bd",
   "metadata": {},
   "source": [
    "* Azure AI Document Intelligenceでpdfをmarkdown化する"
   ]
  },
  {
   "cell_type": "markdown",
   "id": "432de452-76ee-4bc6-b897-daf0cfeeeabc",
   "metadata": {},
   "source": [
    "### 設定"
   ]
  },
  {
   "cell_type": "code",
   "execution_count": 1,
   "id": "46a95057-79a4-465f-bfeb-8636b2ed32df",
   "metadata": {},
   "outputs": [
    {
     "name": "stdout",
     "output_type": "stream",
     "text": [
      "Requirement already satisfied: python-dotenv in c:\\users\\mikan\\documents\\python\\signate_fdua_rag\\lib\\site-packages (1.0.1)\n"
     ]
    },
    {
     "name": "stderr",
     "output_type": "stream",
     "text": [
      "\n",
      "[notice] A new release of pip is available: 24.0 -> 25.0\n",
      "[notice] To update, run: python.exe -m pip install --upgrade pip\n"
     ]
    },
    {
     "name": "stdout",
     "output_type": "stream",
     "text": [
      "Requirement already satisfied: azure-ai-documentintelligence in c:\\users\\mikan\\documents\\python\\signate_fdua_rag\\lib\\site-packages (1.0.0)\n",
      "Requirement already satisfied: isodate>=0.6.1 in c:\\users\\mikan\\documents\\python\\signate_fdua_rag\\lib\\site-packages (from azure-ai-documentintelligence) (0.7.2)\n",
      "Requirement already satisfied: azure-core>=1.30.0 in c:\\users\\mikan\\documents\\python\\signate_fdua_rag\\lib\\site-packages (from azure-ai-documentintelligence) (1.32.0)\n",
      "Requirement already satisfied: typing-extensions>=4.6.0 in c:\\users\\mikan\\documents\\python\\signate_fdua_rag\\lib\\site-packages (from azure-ai-documentintelligence) (4.12.2)\n",
      "Requirement already satisfied: requests>=2.21.0 in c:\\users\\mikan\\documents\\python\\signate_fdua_rag\\lib\\site-packages (from azure-core>=1.30.0->azure-ai-documentintelligence) (2.32.3)\n",
      "Requirement already satisfied: six>=1.11.0 in c:\\users\\mikan\\documents\\python\\signate_fdua_rag\\lib\\site-packages (from azure-core>=1.30.0->azure-ai-documentintelligence) (1.17.0)\n",
      "Requirement already satisfied: charset-normalizer<4,>=2 in c:\\users\\mikan\\documents\\python\\signate_fdua_rag\\lib\\site-packages (from requests>=2.21.0->azure-core>=1.30.0->azure-ai-documentintelligence) (3.4.1)\n",
      "Requirement already satisfied: idna<4,>=2.5 in c:\\users\\mikan\\documents\\python\\signate_fdua_rag\\lib\\site-packages (from requests>=2.21.0->azure-core>=1.30.0->azure-ai-documentintelligence) (3.10)\n",
      "Requirement already satisfied: urllib3<3,>=1.21.1 in c:\\users\\mikan\\documents\\python\\signate_fdua_rag\\lib\\site-packages (from requests>=2.21.0->azure-core>=1.30.0->azure-ai-documentintelligence) (2.3.0)\n",
      "Requirement already satisfied: certifi>=2017.4.17 in c:\\users\\mikan\\documents\\python\\signate_fdua_rag\\lib\\site-packages (from requests>=2.21.0->azure-core>=1.30.0->azure-ai-documentintelligence) (2025.1.31)\n"
     ]
    },
    {
     "name": "stderr",
     "output_type": "stream",
     "text": [
      "\n",
      "[notice] A new release of pip is available: 24.0 -> 25.0\n",
      "[notice] To update, run: python.exe -m pip install --upgrade pip\n"
     ]
    }
   ],
   "source": [
    "!pip install python-dotenv\n",
    "!pip install azure-ai-documentintelligence"
   ]
  },
  {
   "cell_type": "code",
   "execution_count": 2,
   "id": "4340659d-6cc6-457d-8695-9d14377e316e",
   "metadata": {},
   "outputs": [],
   "source": [
    "import os\n",
    "\n",
    "from dotenv import load_dotenv\n",
    "load_dotenv(verbose=True)\n",
    "dotenv_path = \".env\"\n",
    "load_dotenv(dotenv_path)\n",
    "\n",
    "from azure.core.credentials import AzureKeyCredential\n",
    "from azure.ai.documentintelligence import DocumentIntelligenceClient\n",
    "from azure.ai.documentintelligence.models import AnalyzeDocumentRequest, DocumentContentFormat"
   ]
  },
  {
   "cell_type": "markdown",
   "id": "21607390-d15b-47b0-a074-bb9bd730537f",
   "metadata": {},
   "source": [
    "### 定数"
   ]
  },
  {
   "cell_type": "code",
   "execution_count": 3,
   "id": "ebdd200c-4cf8-4975-b999-c647bce16e94",
   "metadata": {},
   "outputs": [],
   "source": [
    "LIST_COMPANY_NAME = [\n",
    "    \"カゴメ株式会社\",\n",
    "    \"グローリー株式会社\",\n",
    "    \"サントリーホールディングス株式会社\",\n",
    "    \"ハウス食品グループ本社株式会社\",\n",
    "    \"パナソニックホールディングス株式会社\",\n",
    "    \"全国保証株式会社\",\n",
    "    \"日清食品ホールディングス株式会社\",\n",
    "    \"日産自動車株式会社\",\n",
    "    \"明治ホールディングス株式会社\",\n",
    "    \"東急不動産ホールディングス株式会社\",\n",
    "    \"東洋エンジニアリング株式会社\",\n",
    "    \"株式会社IHI\",\n",
    "    \"株式会社キッツ\",\n",
    "    \"株式会社クレハ\",\n",
    "    \"株式会社メディアドゥ\",\n",
    "    \"株式会社モスフードサービス\",\n",
    "    \"株式会社4℃ホールディングス\",\n",
    "    \"株式会社ライフコーポレーション\",\n",
    "    \"株式会社高松コンストラクショングループ\",\n",
    "]"
   ]
  },
  {
   "cell_type": "markdown",
   "id": "91069039-40ee-4bbf-8488-e032baae688a",
   "metadata": {},
   "source": [
    "### pdfをmarkdown化"
   ]
  },
  {
   "cell_type": "code",
   "execution_count": 4,
   "id": "5184a6ce-634f-47a4-90e3-be138c4b87e4",
   "metadata": {},
   "outputs": [],
   "source": [
    "endpoint = os.environ[\"DI_ENDPOINT\"]\n",
    "api_key = os.environ[\"DI_API_KEY\"]\n",
    "\n",
    "document_intelligence_client = (\n",
    "    DocumentIntelligenceClient(\n",
    "        endpoint=endpoint,\n",
    "        credential=AzureKeyCredential(api_key),\n",
    "    )\n",
    ")"
   ]
  },
  {
   "cell_type": "code",
   "execution_count": 5,
   "id": "27600add-b873-4a59-ad11-97f6fcbba1b9",
   "metadata": {},
   "outputs": [],
   "source": [
    "def pdf2md(dic: DocumentIntelligenceClient, pdf_url: str):\n",
    "    poller = document_intelligence_client.begin_analyze_document(\n",
    "        \"prebuilt-layout\",\n",
    "        AnalyzeDocumentRequest(url_source=pdf_url),\n",
    "        output_content_format=DocumentContentFormat.MARKDOWN,\n",
    "    )\n",
    "    result = poller.result()\n",
    "    md = result.content\n",
    "\n",
    "    return md"
   ]
  },
  {
   "cell_type": "code",
   "execution_count": 6,
   "id": "38db885e-457c-4937-acb7-165b60b6f399",
   "metadata": {},
   "outputs": [],
   "source": [
    "for company_name in LIST_COMPANY_NAME:\n",
    "    # 抽出\n",
    "    pdf_url = f\"https://signate-fdua-rag.s3.ap-northeast-1.amazonaws.com/{company_name}.pdf\"\n",
    "    md_content = pdf2md(document_intelligence_client, pdf_url)\n",
    "\n",
    "    # 保存\n",
    "    md_file_name = f\"../data/markdown/{company_name}.md\"\n",
    "    with open(md_file_name, \"w\", encoding=\"utf-8\") as md_file:\n",
    "        md_file.write(md_content)"
   ]
  }
 ],
 "metadata": {
  "kernelspec": {
   "display_name": "Python 3 (ipykernel)",
   "language": "python",
   "name": "python3"
  },
  "language_info": {
   "codemirror_mode": {
    "name": "ipython",
    "version": 3
   },
   "file_extension": ".py",
   "mimetype": "text/x-python",
   "name": "python",
   "nbconvert_exporter": "python",
   "pygments_lexer": "ipython3",
   "version": "3.12.4"
  }
 },
 "nbformat": 4,
 "nbformat_minor": 5
}
